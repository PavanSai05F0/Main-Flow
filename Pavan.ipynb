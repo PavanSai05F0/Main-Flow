{
 "cells": [
  {
   "cell_type": "code",
   "execution_count": 2,
   "id": "ab23d786-6ace-4931-94ad-9794c211bd6b",
   "metadata": {},
   "outputs": [
    {
     "name": "stdout",
     "output_type": "stream",
     "text": [
      "[18, 12, 16, 36, 42, 81, 8]\n"
     ]
    }
   ],
   "source": [
    "#Creating a list\n",
    "l=[18,12,16,36,42,81,8]\n",
    "print(l)"
   ]
  },
  {
   "cell_type": "code",
   "execution_count": 3,
   "id": "8a4eaf71-9327-40de-aec8-218e9c39f98e",
   "metadata": {},
   "outputs": [
    {
     "name": "stdout",
     "output_type": "stream",
     "text": [
      "[18, 12, 16, 36, 42, 81, 8, 28]\n",
      "[18, 16, 36, 42, 81, 8, 28]\n"
     ]
    }
   ],
   "source": [
    "l.append(28)\n",
    "print(l)\n",
    "l.remove(12)\n",
    "print(l)"
   ]
  },
  {
   "cell_type": "code",
   "execution_count": 4,
   "id": "b786e3d7-65ec-4fae-8435-6e2b83824d12",
   "metadata": {},
   "outputs": [
    {
     "name": "stdout",
     "output_type": "stream",
     "text": [
      "Update List:  [18, 16, 36, 56, 81, 8, 28]\n"
     ]
    }
   ],
   "source": [
    "l[3]=56\n",
    "print(\"Update List: \",l)"
   ]
  },
  {
   "cell_type": "code",
   "execution_count": 5,
   "id": "be8226da-97af-4666-8538-934eb271fc64",
   "metadata": {},
   "outputs": [
    {
     "data": {
      "text/plain": [
       "{'A': 'AAPPLE', 'B': 'BALL', 'C': 'CAT', 'D': 'DOLL'}"
      ]
     },
     "execution_count": 5,
     "metadata": {},
     "output_type": "execute_result"
    }
   ],
   "source": [
    "#creating a dictionary\n",
    "d={\"A\":\"AAPPLE\",\"B\":\"BALL\",\"C\":\"CAT\",\"D\":\"DOLL\"}\n",
    "d"
   ]
  },
  {
   "cell_type": "code",
   "execution_count": 6,
   "id": "3851b5ce-85f7-4d79-9ea0-139c9c14481b",
   "metadata": {},
   "outputs": [
    {
     "name": "stdout",
     "output_type": "stream",
     "text": [
      "Adding {'A': 'AAPPLE', 'B': 'BALL', 'C': 'CAT', 'D': 'DOLL', 'E': 'ENERGY'}\n",
      "Removing {'A': 'AAPPLE', 'B': 'BALL', 'C': 'CAT', 'E': 'ENERGY'}\n"
     ]
    }
   ],
   "source": [
    "d[\"E\"]=\"ENERGY\"\n",
    "print(\"Adding\",d)\n",
    "del d[\"D\"]\n",
    "print(\"Removing\",d)"
   ]
  },
  {
   "cell_type": "code",
   "execution_count": 7,
   "id": "70ea4168-7fe5-4829-a66f-b7f8fb2fc6ad",
   "metadata": {},
   "outputs": [
    {
     "name": "stdout",
     "output_type": "stream",
     "text": [
      "Updated:  {'A': 'AAPPLE', 'B': 'BALL', 'C': 'CAMEL', 'E': 'ENERGY'}\n"
     ]
    }
   ],
   "source": [
    "d[\"C\"]=\"CAMEL\"\n",
    "print(\"Updated: \",d)"
   ]
  },
  {
   "cell_type": "code",
   "execution_count": 8,
   "id": "d88f8536-7773-43e8-be04-15261d49a588",
   "metadata": {},
   "outputs": [
    {
     "name": "stdout",
     "output_type": "stream",
     "text": [
      "{3, 4, 5, 6, 7, 8, 9}\n"
     ]
    },
    {
     "data": {
      "text/plain": [
       "set"
      ]
     },
     "execution_count": 8,
     "metadata": {},
     "output_type": "execute_result"
    }
   ],
   "source": [
    "#creating a set\n",
    "s={4,5,7,3,8,9,6}\n",
    "print(s)\n",
    "type(s)"
   ]
  },
  {
   "cell_type": "code",
   "execution_count": 9,
   "id": "edc0e181-dbf3-4c56-9ab4-eeb1668bca0e",
   "metadata": {},
   "outputs": [
    {
     "name": "stdout",
     "output_type": "stream",
     "text": [
      "add: {18, 3, 4, 5, 6, 7, 8, 9}\n",
      "remove {18, 3, 4, 5, 6, 7, 8}\n"
     ]
    }
   ],
   "source": [
    "s.add(18)\n",
    "print(\"add:\",s)\n",
    "s.remove(9)\n",
    "print(\"remove\",s)"
   ]
  },
  {
   "cell_type": "code",
   "execution_count": 10,
   "id": "5a0a98e5-2ce7-489d-95ea-63a8faa31af6",
   "metadata": {},
   "outputs": [
    {
     "name": "stdout",
     "output_type": "stream",
     "text": [
      "Updated: {18, 4, 5, 6, 7, 8, 84}\n"
     ]
    }
   ],
   "source": [
    "s.discard(3)\n",
    "s.add(84)\n",
    "print(\"Updated:\",s)"
   ]
  },
  {
   "cell_type": "code",
   "execution_count": null,
   "id": "409a9484-af98-440d-b08b-6c566f32f2ab",
   "metadata": {},
   "outputs": [],
   "source": []
  }
 ],
 "metadata": {
  "kernelspec": {
   "display_name": "Python 3 (ipykernel)",
   "language": "python",
   "name": "python3"
  },
  "language_info": {
   "codemirror_mode": {
    "name": "ipython",
    "version": 3
   },
   "file_extension": ".py",
   "mimetype": "text/x-python",
   "name": "python",
   "nbconvert_exporter": "python",
   "pygments_lexer": "ipython3",
   "version": "3.11.7"
  }
 },
 "nbformat": 4,
 "nbformat_minor": 5
}
